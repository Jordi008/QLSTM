{
 "cells": [
  {
   "cell_type": "markdown",
   "id": "cab51b50",
   "metadata": {},
   "source": [
    "## Introduction\n",
    "Time series forecasting is a critical component of many real-world applications, from finance and stock market prediction to weather forecasting and demand forecasting in supply chain management. Accurate and reliable predictions of future values based on historical data can provide invaluable insights for decision-making and planning. In the realm of time series forecasting, the Quantum Long Short-Term Memory (QLSTM) neural network architecture has emerged as a powerful tool for handling sequential data.\n",
    "\n",
    "The QLSTM is a variant of the widely used Long Short-Term Memory (LSTM) network, designed to capture both short-term and long-term dependencies in time series data. It combines the strengths of traditional LSTMs with certain enhancements, making it particularly well-suited for complex and chaotic time series datasets. This innovative architecture has shown promising results in a variety of domains, making it a go-to choice for data scientists and researchers aiming to harness the predictive potential of neural networks.\n",
    "\n",
    "In this codebase, we present a comprehensive implementation of the QLSTM neural network for time series forecasting. This code is intended to serve as a versatile and user-friendly tool for practitioners and researchers looking to leverage QLSTMs for their forecasting tasks. Whether you are an experienced deep learning expert or just getting started with neural networks, this codebase will provide you with the necessary tools and resources to:\n",
    "\n",
    "0.- Preprocess Time Series Data: Clean, format, and prepare your time series data for training and evaluation.\n",
    "\n",
    "1.- Build the QLSTM Model: Create a robust QLSTM architecture tailored to your specific forecasting problem. You can customize hyperparameters, network layers, and activation functions to suit your needs.\n",
    "\n",
    "2.- Train the Model: Utilize historical time series data to train the QLSTM network. The code supports various training options, including batch size, learning rate, and early stopping to ensure efficient convergence.\n",
    "\n",
    "3.- Evaluate Model Performance: Assess the accuracy and effectiveness of the QLSTM model by measuring metrics such as Mean Absolute Error (MAE), Mean Squared Error (MSE), and Root Mean Squared Error (RMSE).\n",
    "\n",
    "4.- Generate Forecasts: Use the trained QLSTM model to make future predictions, allowing you to gain insights into future trends and patterns in your time series data.\n",
    "\n",
    "5.- Visualize Results: Visualize the model's predictions alongside the actual time series data, enabling you to gain a deeper understanding of its forecasting capabilities.\n",
    "\n",
    "By providing this QLSTM time series forecasting codebase, we aim to empower users to tackle a wide range of forecasting challenges effectively. Whether you are interested in predicting stock prices, energy consumption, or any other time-dependent phenomenon, the QLSTM codebase offers a powerful and flexible solution to enhance your forecasting endeavors. With the right data and the right model, you can unlock valuable insights and make informed decisions in your domain of interest.\n",
    "\n",
    "In the following experiments we test this tool for common functions such as $f(t) = sin(t)$, $f(t) = 2t^3 + 5t^2 +8t -9 $ (polynomials), time series for economic indexes, etc.\n",
    "\n",
    "We based this code in the paper Quantum Long Short-Term Memory: https://arxiv.org/pdf/2009.01783.pdf, Samuel Yen-Chi Chen, Shinjae Yoo, and Yao-Lung L. Fang.\n"
   ]
  },
  {
   "cell_type": "code",
   "execution_count": 1,
   "id": "G28B3hPWd281",
   "metadata": {
    "colab": {
     "base_uri": "https://localhost:8080/",
     "height": 1000
    },
    "id": "G28B3hPWd281",
    "outputId": "8120d326-4c38-468e-be00-d8ef447b7a28"
   },
   "outputs": [
    {
     "name": "stdout",
     "output_type": "stream",
     "text": [
      "Defaulting to user installation because normal site-packages is not writeable\n",
      "Collecting pennylane==0.29.0\n",
      "  Downloading PennyLane-0.29.0-py3-none-any.whl (1.3 MB)\n",
      "\u001b[2K     \u001b[90m━━━━━━━━━━━━━━━━━━━━━━━━━━━━━━━━━━━━━━━━\u001b[0m \u001b[32m1.3/1.3 MB\u001b[0m \u001b[31m5.1 MB/s\u001b[0m eta \u001b[36m0:00:00\u001b[0m00:01\u001b[0m00:01\u001b[0m\n",
      "\u001b[?25hCollecting numpy<1.24 (from pennylane==0.29.0)\n",
      "  Downloading numpy-1.23.5-cp310-cp310-manylinux_2_17_x86_64.manylinux2014_x86_64.whl (17.1 MB)\n",
      "\u001b[2K     \u001b[90m━━━━━━━━━━━━━━━━━━━━━━━━━━━━━━━━━━━━━━━\u001b[0m \u001b[32m17.1/17.1 MB\u001b[0m \u001b[31m533.3 kB/s\u001b[0m eta \u001b[36m0:00:00\u001b[0m00:01\u001b[0m00:01\u001b[0m\n",
      "\u001b[?25hCollecting scipy (from pennylane==0.29.0)\n",
      "  Obtaining dependency information for scipy from https://files.pythonhosted.org/packages/a8/cc/c36f3439f5d47c3b13833ce6687b43a040cc7638c502ac46b41e2d4f3d6f/scipy-1.11.2-cp310-cp310-manylinux_2_17_x86_64.manylinux2014_x86_64.whl.metadata\n",
      "  Downloading scipy-1.11.2-cp310-cp310-manylinux_2_17_x86_64.manylinux2014_x86_64.whl.metadata (59 kB)\n",
      "\u001b[2K     \u001b[90m━━━━━━━━━━━━━━━━━━━━━━━━━━━━━━━━━━━━━━━\u001b[0m \u001b[32m59.1/59.1 kB\u001b[0m \u001b[31m498.3 kB/s\u001b[0m eta \u001b[36m0:00:00\u001b[0ma \u001b[36m0:00:01\u001b[0m\n",
      "\u001b[?25hCollecting networkx (from pennylane==0.29.0)\n",
      "  Downloading networkx-3.1-py3-none-any.whl (2.1 MB)\n",
      "\u001b[2K     \u001b[90m━━━━━━━━━━━━━━━━━━━━━━━━━━━━━━━━━━━━━━━━\u001b[0m \u001b[32m2.1/2.1 MB\u001b[0m \u001b[31m543.5 kB/s\u001b[0m eta \u001b[36m0:00:00\u001b[0m00:01\u001b[0m00:01\u001b[0m\n",
      "\u001b[?25hCollecting retworkx (from pennylane==0.29.0)\n",
      "  Obtaining dependency information for retworkx from https://files.pythonhosted.org/packages/96/e4/3fbaf64d7a891cff6bf0761546fedb0551b2a0efe132459984f85fcc4fa0/retworkx-0.13.1-py3-none-any.whl.metadata\n",
      "  Downloading retworkx-0.13.1-py3-none-any.whl.metadata (10 kB)\n",
      "Collecting autograd (from pennylane==0.29.0)\n",
      "  Obtaining dependency information for autograd from https://files.pythonhosted.org/packages/81/70/d5c7c2a458b8be96495c8b1634c2155beab58cbe864b7a9a5c06c2e52520/autograd-1.6.2-py3-none-any.whl.metadata\n",
      "  Downloading autograd-1.6.2-py3-none-any.whl.metadata (706 bytes)\n",
      "Collecting toml (from pennylane==0.29.0)\n",
      "  Downloading toml-0.10.2-py2.py3-none-any.whl (16 kB)\n",
      "Collecting appdirs (from pennylane==0.29.0)\n",
      "  Downloading appdirs-1.4.4-py2.py3-none-any.whl (9.6 kB)\n",
      "Collecting semantic-version>=2.7 (from pennylane==0.29.0)\n",
      "  Downloading semantic_version-2.10.0-py2.py3-none-any.whl (15 kB)\n",
      "Collecting autoray>=0.3.1 (from pennylane==0.29.0)\n",
      "  Obtaining dependency information for autoray>=0.3.1 from https://files.pythonhosted.org/packages/7b/c2/c6aa844448722e795925560f39be3d5c737d5cc83770ef00505440be4b83/autoray-0.6.6-py3-none-any.whl.metadata\n",
      "  Downloading autoray-0.6.6-py3-none-any.whl.metadata (18 kB)\n",
      "Collecting cachetools (from pennylane==0.29.0)\n",
      "  Obtaining dependency information for cachetools from https://files.pythonhosted.org/packages/a9/c9/c8a7710f2cedcb1db9224fdd4d8307c9e48cbddc46c18b515fefc0f1abbe/cachetools-5.3.1-py3-none-any.whl.metadata\n",
      "  Downloading cachetools-5.3.1-py3-none-any.whl.metadata (5.2 kB)\n",
      "Collecting pennylane-lightning>=0.28 (from pennylane==0.29.0)\n",
      "  Obtaining dependency information for pennylane-lightning>=0.28 from https://files.pythonhosted.org/packages/92/ac/a4b8bfb3468b12e6e5bf2637af26f814fd09ae72c933d27ec07a72e4d973/PennyLane_Lightning-0.32.0-cp310-cp310-manylinux_2_17_x86_64.manylinux2014_x86_64.whl.metadata\n",
      "  Downloading PennyLane_Lightning-0.32.0-cp310-cp310-manylinux_2_17_x86_64.manylinux2014_x86_64.whl.metadata (14 kB)\n",
      "Collecting requests (from pennylane==0.29.0)\n",
      "  Obtaining dependency information for requests from https://files.pythonhosted.org/packages/70/8e/0e2d847013cb52cd35b38c009bb167a1a26b2ce6cd6965bf26b47bc0bf44/requests-2.31.0-py3-none-any.whl.metadata\n",
      "  Downloading requests-2.31.0-py3-none-any.whl.metadata (4.6 kB)\n",
      "INFO: pip is looking at multiple versions of pennylane-lightning to determine which version is compatible with other requirements. This could take a while.\n",
      "Collecting pennylane-lightning>=0.28 (from pennylane==0.29.0)\n",
      "  Obtaining dependency information for pennylane-lightning>=0.28 from https://files.pythonhosted.org/packages/fe/3e/7f691380bcbc194c31897addfe0e18b68b51806a67539728f5fea7e1a94a/PennyLane_Lightning-0.31.0-cp310-cp310-manylinux_2_17_x86_64.manylinux2014_x86_64.whl.metadata\n",
      "  Downloading PennyLane_Lightning-0.31.0-cp310-cp310-manylinux_2_17_x86_64.manylinux2014_x86_64.whl.metadata (10 kB)\n",
      "  Downloading PennyLane_Lightning-0.30.0-cp310-cp310-manylinux_2_17_x86_64.manylinux2014_x86_64.whl (16.6 MB)\n",
      "\u001b[2K     \u001b[90m━━━━━━━━━━━━━━━━━━━━━━━━━━━━━━━━━━━━━━━\u001b[0m \u001b[32m16.6/16.6 MB\u001b[0m \u001b[31m564.9 kB/s\u001b[0m eta \u001b[36m0:00:00\u001b[0m00:01\u001b[0m00:01\u001b[0m\n",
      "\u001b[?25hCollecting future>=0.15.2 (from autograd->pennylane==0.29.0)\n",
      "  Downloading future-0.18.3.tar.gz (840 kB)\n",
      "\u001b[2K     \u001b[90m━━━━━━━━━━━━━━━━━━━━━━━━━━━━━━━━━━━━━\u001b[0m \u001b[32m840.9/840.9 kB\u001b[0m \u001b[31m430.9 kB/s\u001b[0m eta \u001b[36m0:00:00\u001b[0m00:01\u001b[0m00:01\u001b[0m\n",
      "\u001b[?25h  Preparing metadata (setup.py) ... \u001b[?25ldone\n",
      "\u001b[?25hCollecting charset-normalizer<4,>=2 (from requests->pennylane==0.29.0)\n",
      "  Obtaining dependency information for charset-normalizer<4,>=2 from https://files.pythonhosted.org/packages/a4/65/057bf29660aae6ade0816457f8db4e749e5c0bfa2366eb5f67db9912fa4c/charset_normalizer-3.2.0-cp310-cp310-manylinux_2_17_x86_64.manylinux2014_x86_64.whl.metadata\n",
      "  Downloading charset_normalizer-3.2.0-cp310-cp310-manylinux_2_17_x86_64.manylinux2014_x86_64.whl.metadata (31 kB)\n",
      "Collecting idna<4,>=2.5 (from requests->pennylane==0.29.0)\n",
      "  Downloading idna-3.4-py3-none-any.whl (61 kB)\n",
      "\u001b[2K     \u001b[90m━━━━━━━━━━━━━━━━━━━━━━━━━━━━━━━━━━━━━━━\u001b[0m \u001b[32m61.5/61.5 kB\u001b[0m \u001b[31m433.5 kB/s\u001b[0m eta \u001b[36m0:00:00\u001b[0m00:01\u001b[0m00:01\u001b[0m\n",
      "\u001b[?25hCollecting urllib3<3,>=1.21.1 (from requests->pennylane==0.29.0)\n",
      "  Obtaining dependency information for urllib3<3,>=1.21.1 from https://files.pythonhosted.org/packages/9b/81/62fd61001fa4b9d0df6e31d47ff49cfa9de4af03adecf339c7bc30656b37/urllib3-2.0.4-py3-none-any.whl.metadata\n",
      "  Downloading urllib3-2.0.4-py3-none-any.whl.metadata (6.6 kB)\n",
      "Collecting certifi>=2017.4.17 (from requests->pennylane==0.29.0)\n",
      "  Obtaining dependency information for certifi>=2017.4.17 from https://files.pythonhosted.org/packages/4c/dd/2234eab22353ffc7d94e8d13177aaa050113286e93e7b40eae01fbf7c3d9/certifi-2023.7.22-py3-none-any.whl.metadata\n",
      "  Downloading certifi-2023.7.22-py3-none-any.whl.metadata (2.2 kB)\n",
      "Collecting rustworkx==0.13.1 (from retworkx->pennylane==0.29.0)\n",
      "  Obtaining dependency information for rustworkx==0.13.1 from https://files.pythonhosted.org/packages/c6/5c/47733f70dc5e97829898f5e6d34eba31ae40ba88e7adbea8a1c23f49e762/rustworkx-0.13.1-cp310-cp310-manylinux_2_17_x86_64.manylinux2014_x86_64.whl.metadata\n",
      "  Downloading rustworkx-0.13.1-cp310-cp310-manylinux_2_17_x86_64.manylinux2014_x86_64.whl.metadata (10 kB)\n",
      "Downloading autoray-0.6.6-py3-none-any.whl (54 kB)\n",
      "\u001b[2K   \u001b[90m━━━━━━━━━━━━━━━━━━━━━━━━━━━━━━━━━━━━━━━━\u001b[0m \u001b[32m54.7/54.7 kB\u001b[0m \u001b[31m338.8 kB/s\u001b[0m eta \u001b[36m0:00:00\u001b[0ma \u001b[36m0:00:01\u001b[0m\n",
      "\u001b[?25hDownloading autograd-1.6.2-py3-none-any.whl (49 kB)\n",
      "\u001b[2K   \u001b[90m━━━━━━━━━━━━━━━━━━━━━━━━━━━━━━━━━━━━━━━━\u001b[0m \u001b[32m49.3/49.3 kB\u001b[0m \u001b[31m210.4 kB/s\u001b[0m eta \u001b[36m0:00:00\u001b[0ma \u001b[36m0:00:01\u001b[0m\n",
      "\u001b[?25hDownloading cachetools-5.3.1-py3-none-any.whl (9.3 kB)\n",
      "Downloading requests-2.31.0-py3-none-any.whl (62 kB)\n",
      "\u001b[2K   \u001b[90m━━━━━━━━━━━━━━━━━━━━━━━━━━━━━━━━━━━━━━━━\u001b[0m \u001b[32m62.6/62.6 kB\u001b[0m \u001b[31m370.4 kB/s\u001b[0m eta \u001b[36m0:00:00\u001b[0m00:01\u001b[0m00:01\u001b[0m\n",
      "\u001b[?25hDownloading retworkx-0.13.1-py3-none-any.whl (10 kB)\n",
      "Downloading rustworkx-0.13.1-cp310-cp310-manylinux_2_17_x86_64.manylinux2014_x86_64.whl (2.0 MB)\n",
      "\u001b[2K   \u001b[90m━━━━━━━━━━━━━━━━━━━━━━━━━━━━━━━━━━━━━━━━\u001b[0m \u001b[32m2.0/2.0 MB\u001b[0m \u001b[31m517.6 kB/s\u001b[0m eta \u001b[36m0:00:00\u001b[0m00:01\u001b[0m00:01\u001b[0m\n",
      "\u001b[?25hDownloading scipy-1.11.2-cp310-cp310-manylinux_2_17_x86_64.manylinux2014_x86_64.whl (36.3 MB)\n",
      "\u001b[2K   \u001b[90m━━━━━━━━━━━━━━━━━━━━━━━━━━━━━━━━━━━━━━━━\u001b[0m \u001b[32m36.3/36.3 MB\u001b[0m \u001b[31m521.3 kB/s\u001b[0m eta \u001b[36m0:00:00\u001b[0m00:01\u001b[0m00:02\u001b[0m\n",
      "\u001b[?25hDownloading certifi-2023.7.22-py3-none-any.whl (158 kB)\n",
      "\u001b[2K   \u001b[90m━━━━━━━━━━━━━━━━━━━━━━━━━━━━━━━━━━━━━━━\u001b[0m \u001b[32m158.3/158.3 kB\u001b[0m \u001b[31m306.3 kB/s\u001b[0m eta \u001b[36m0:00:00\u001b[0ma \u001b[36m0:00:01\u001b[0m\n",
      "\u001b[?25hDownloading charset_normalizer-3.2.0-cp310-cp310-manylinux_2_17_x86_64.manylinux2014_x86_64.whl (201 kB)\n",
      "\u001b[2K   \u001b[90m━━━━━━━━━━━━━━━━━━━━━━━━━━━━━━━━━━━━━━━\u001b[0m \u001b[32m201.8/201.8 kB\u001b[0m \u001b[31m362.0 kB/s\u001b[0m eta \u001b[36m0:00:00\u001b[0ma \u001b[36m0:00:01\u001b[0m\n",
      "\u001b[?25hDownloading urllib3-2.0.4-py3-none-any.whl (123 kB)\n",
      "\u001b[2K   \u001b[90m━━━━━━━━━━━━━━━━━━━━━━━━━━━━━━━━━━━━━━━\u001b[0m \u001b[32m123.9/123.9 kB\u001b[0m \u001b[31m510.6 kB/s\u001b[0m eta \u001b[36m0:00:00\u001b[0m00:01\u001b[0m00:01\u001b[0m\n",
      "\u001b[?25hBuilding wheels for collected packages: future\n",
      "  Building wheel for future (setup.py) ... \u001b[?25ldone\n",
      "\u001b[?25h  Created wheel for future: filename=future-0.18.3-py3-none-any.whl size=492023 sha256=857c59f826cd96c2cd4652dd1a71e1d4e1d588a43a179e8e4d4be6c0e25b3702\n",
      "  Stored in directory: /home/gjordi/.cache/pip/wheels/5e/a9/47/f118e66afd12240e4662752cc22cefae5d97275623aa8ef57d\n",
      "Successfully built future\n",
      "Installing collected packages: appdirs, urllib3, toml, semantic-version, numpy, networkx, idna, future, charset-normalizer, certifi, cachetools, autoray, scipy, rustworkx, requests, autograd, retworkx, pennylane-lightning, pennylane\n",
      "\u001b[33m  WARNING: The scripts f2py, f2py3 and f2py3.10 are installed in '/home/gjordi/.local/bin' which is not on PATH.\n",
      "  Consider adding this directory to PATH or, if you prefer to suppress this warning, use --no-warn-script-location.\u001b[0m\u001b[33m\n",
      "\u001b[0m\u001b[33m  WARNING: The scripts futurize and pasteurize are installed in '/home/gjordi/.local/bin' which is not on PATH.\n",
      "  Consider adding this directory to PATH or, if you prefer to suppress this warning, use --no-warn-script-location.\u001b[0m\u001b[33m\n",
      "\u001b[0m\u001b[33m  WARNING: The script normalizer is installed in '/home/gjordi/.local/bin' which is not on PATH.\n",
      "  Consider adding this directory to PATH or, if you prefer to suppress this warning, use --no-warn-script-location.\u001b[0m\u001b[33m\n",
      "\u001b[0m\u001b[33m  WARNING: The script pl-device-test is installed in '/home/gjordi/.local/bin' which is not on PATH.\n",
      "  Consider adding this directory to PATH or, if you prefer to suppress this warning, use --no-warn-script-location.\u001b[0m\u001b[33m\n",
      "\u001b[0m\u001b[31mERROR: pip's dependency resolver does not currently take into account all the packages that are installed. This behaviour is the source of the following dependency conflicts.\n",
      "tensorboard 2.13.0 requires google-auth<3,>=1.6.3, which is not installed.\u001b[0m\u001b[31m\n",
      "\u001b[0mSuccessfully installed appdirs-1.4.4 autograd-1.6.2 autoray-0.6.6 cachetools-5.3.1 certifi-2023.7.22 charset-normalizer-3.2.0 future-0.18.3 idna-3.4 networkx-3.1 numpy-1.23.5 pennylane-0.29.0 pennylane-lightning-0.30.0 requests-2.31.0 retworkx-0.13.1 rustworkx-0.13.1 scipy-1.11.2 semantic-version-2.10.0 toml-0.10.2 urllib3-2.0.4\n",
      "Note: you may need to restart the kernel to use updated packages.\n"
     ]
    }
   ],
   "source": [
    "pip install --force-reinstall pennylane==0.29.0"
   ]
  },
  {
   "cell_type": "code",
   "execution_count": 2,
   "id": "5117ea08",
   "metadata": {},
   "outputs": [
    {
     "name": "stdout",
     "output_type": "stream",
     "text": [
      "Defaulting to user installation because normal site-packages is not writeable\n",
      "Collecting torch\n",
      "  Downloading torch-2.0.1-cp310-cp310-manylinux1_x86_64.whl (619.9 MB)\n",
      "\u001b[2K     \u001b[90m━━━━━━━━━━━━━━━━━━━━━━━━━━━━━━━━━━━━━\u001b[0m \u001b[32m619.9/619.9 MB\u001b[0m \u001b[31m442.0 kB/s\u001b[0m eta \u001b[36m0:00:00\u001b[0m00:01\u001b[0m00:21\u001b[0m\n",
      "\u001b[?25hCollecting filelock (from torch)\n",
      "  Obtaining dependency information for filelock from https://files.pythonhosted.org/packages/52/90/45223db4e1df30ff14e8aebf9a1bf0222da2e7b49e53692c968f36817812/filelock-3.12.3-py3-none-any.whl.metadata\n",
      "  Downloading filelock-3.12.3-py3-none-any.whl.metadata (2.7 kB)\n",
      "Requirement already satisfied: typing-extensions in /usr/local/lib/python3.10/dist-packages (from torch) (4.5.0)\n",
      "Requirement already satisfied: sympy in /usr/local/lib/python3.10/dist-packages (from torch) (1.12)\n",
      "Requirement already satisfied: networkx in /home/gjordi/.local/lib/python3.10/site-packages (from torch) (3.1)\n",
      "Requirement already satisfied: jinja2 in /usr/local/lib/python3.10/dist-packages (from torch) (3.1.2)\n",
      "Collecting nvidia-cuda-nvrtc-cu11==11.7.99 (from torch)\n",
      "  Downloading nvidia_cuda_nvrtc_cu11-11.7.99-2-py3-none-manylinux1_x86_64.whl (21.0 MB)\n",
      "\u001b[2K     \u001b[90m━━━━━━━━━━━━━━━━━━━━━━━━━━━━━━━━━━━━━━━\u001b[0m \u001b[32m21.0/21.0 MB\u001b[0m \u001b[31m358.5 kB/s\u001b[0m eta \u001b[36m0:00:00\u001b[0m00:01\u001b[0m00:02\u001b[0m\n",
      "\u001b[?25hCollecting nvidia-cuda-runtime-cu11==11.7.99 (from torch)\n",
      "  Downloading nvidia_cuda_runtime_cu11-11.7.99-py3-none-manylinux1_x86_64.whl (849 kB)\n",
      "\u001b[2K     \u001b[90m━━━━━━━━━━━━━━━━━━━━━━━━━━━━━━━━━━━━━\u001b[0m \u001b[32m849.3/849.3 kB\u001b[0m \u001b[31m216.6 kB/s\u001b[0m eta \u001b[36m0:00:00\u001b[0m00:01\u001b[0m00:01\u001b[0m\n",
      "\u001b[?25hCollecting nvidia-cuda-cupti-cu11==11.7.101 (from torch)\n",
      "  Downloading nvidia_cuda_cupti_cu11-11.7.101-py3-none-manylinux1_x86_64.whl (11.8 MB)\n",
      "\u001b[2K     \u001b[90m━━━━━━━━━━━━━━━━━━━━━━━━━━━━━━━━━━━━━━━\u001b[0m \u001b[32m11.8/11.8 MB\u001b[0m \u001b[31m334.4 kB/s\u001b[0m eta \u001b[36m0:00:00\u001b[0m00:01\u001b[0m00:01\u001b[0m\n",
      "\u001b[?25hCollecting nvidia-cudnn-cu11==8.5.0.96 (from torch)\n",
      "  Downloading nvidia_cudnn_cu11-8.5.0.96-2-py3-none-manylinux1_x86_64.whl (557.1 MB)\n",
      "\u001b[2K     \u001b[90m━━━━━━━━━━━━━━━━━━━━━━━━━━━━━━━━━━━━━\u001b[0m \u001b[32m557.1/557.1 MB\u001b[0m \u001b[31m160.1 kB/s\u001b[0m eta \u001b[36m0:00:00\u001b[0m00:01\u001b[0m00:56\u001b[0m\n",
      "\u001b[?25hCollecting nvidia-cublas-cu11==11.10.3.66 (from torch)\n",
      "  Downloading nvidia_cublas_cu11-11.10.3.66-py3-none-manylinux1_x86_64.whl (317.1 MB)\n",
      "\u001b[2K     \u001b[90m━━━━━━━━━━━━━━━━━━━━━━━━━━━━━━━━━━━━━\u001b[0m \u001b[32m317.1/317.1 MB\u001b[0m \u001b[31m374.1 kB/s\u001b[0m eta \u001b[36m0:00:00\u001b[0m00:01\u001b[0m00:19\u001b[0m\n",
      "\u001b[?25hCollecting nvidia-cufft-cu11==10.9.0.58 (from torch)\n",
      "  Downloading nvidia_cufft_cu11-10.9.0.58-py3-none-manylinux1_x86_64.whl (168.4 MB)\n",
      "\u001b[2K     \u001b[90m━━━━━━━━━━━━━━━━━━━━━━━━━━━━━━━━━━━━━\u001b[0m \u001b[32m168.4/168.4 MB\u001b[0m \u001b[31m325.5 kB/s\u001b[0m eta \u001b[36m0:00:00\u001b[0m00:01\u001b[0m00:10\u001b[0m\n",
      "\u001b[?25hCollecting nvidia-curand-cu11==10.2.10.91 (from torch)\n",
      "  Downloading nvidia_curand_cu11-10.2.10.91-py3-none-manylinux1_x86_64.whl (54.6 MB)\n",
      "\u001b[2K     \u001b[90m━━━━━━━━━━━━━━━━━━━━━━━━━━━━━━━━━━━━━━━\u001b[0m \u001b[32m54.6/54.6 MB\u001b[0m \u001b[31m463.6 kB/s\u001b[0m eta \u001b[36m0:00:00\u001b[0m00:01\u001b[0m00:04\u001b[0m\n",
      "\u001b[?25hCollecting nvidia-cusolver-cu11==11.4.0.1 (from torch)\n",
      "  Downloading nvidia_cusolver_cu11-11.4.0.1-2-py3-none-manylinux1_x86_64.whl (102.6 MB)\n",
      "\u001b[2K     \u001b[90m━━━━━━━━━━━━━━━━━━━━━━━━━━━━━━━━━━━━━\u001b[0m \u001b[32m102.6/102.6 MB\u001b[0m \u001b[31m284.3 kB/s\u001b[0m eta \u001b[36m0:00:00\u001b[0m00:01\u001b[0m00:08\u001b[0m\n",
      "\u001b[?25hCollecting nvidia-cusparse-cu11==11.7.4.91 (from torch)\n",
      "  Downloading nvidia_cusparse_cu11-11.7.4.91-py3-none-manylinux1_x86_64.whl (173.2 MB)\n",
      "\u001b[2K     \u001b[90m━━━━━━━━━━━━━━━━━━━━━━━━━━━━━━━━━━━━━\u001b[0m \u001b[32m173.2/173.2 MB\u001b[0m \u001b[31m196.4 kB/s\u001b[0m eta \u001b[36m0:00:00\u001b[0m00:01\u001b[0m00:20\u001b[0m\n",
      "\u001b[?25hCollecting nvidia-nccl-cu11==2.14.3 (from torch)\n",
      "  Downloading nvidia_nccl_cu11-2.14.3-py3-none-manylinux1_x86_64.whl (177.1 MB)\n",
      "\u001b[2K     \u001b[90m━━━━━━━━━━━━━━━━━━━━━━━━━━━━━━━━━━━━━\u001b[0m \u001b[32m177.1/177.1 MB\u001b[0m \u001b[31m262.7 kB/s\u001b[0m eta \u001b[36m0:00:00\u001b[0m00:01\u001b[0m00:17\u001b[0m\n",
      "\u001b[?25hCollecting nvidia-nvtx-cu11==11.7.91 (from torch)\n",
      "  Downloading nvidia_nvtx_cu11-11.7.91-py3-none-manylinux1_x86_64.whl (98 kB)\n",
      "\u001b[2K     \u001b[90m━━━━━━━━━━━━━━━━━━━━━━━━━━━━━━━━━━━━━━━\u001b[0m \u001b[32m98.6/98.6 kB\u001b[0m \u001b[31m145.0 kB/s\u001b[0m eta \u001b[36m0:00:00\u001b[0ma \u001b[36m0:00:01\u001b[0m\n",
      "\u001b[?25hCollecting triton==2.0.0 (from torch)\n",
      "  Downloading triton-2.0.0-1-cp310-cp310-manylinux2014_x86_64.manylinux_2_17_x86_64.whl (63.3 MB)\n",
      "\u001b[2K     \u001b[90m━━━━━━━━━━━━━━━━━━━━━━━━━━━━━━━━━━━━━━━\u001b[0m \u001b[32m63.3/63.3 MB\u001b[0m \u001b[31m440.2 kB/s\u001b[0m eta \u001b[36m0:00:00\u001b[0m00:01\u001b[0m00:04\u001b[0m\n",
      "\u001b[?25hRequirement already satisfied: setuptools in /usr/local/lib/python3.10/dist-packages (from nvidia-cublas-cu11==11.10.3.66->torch) (68.1.0)\n",
      "Requirement already satisfied: wheel in /usr/local/lib/python3.10/dist-packages (from nvidia-cublas-cu11==11.10.3.66->torch) (0.41.1)\n",
      "Collecting cmake (from triton==2.0.0->torch)\n",
      "  Obtaining dependency information for cmake from https://files.pythonhosted.org/packages/94/87/68536d2dde5acec492742c63bb71f43534eb7d3d83122cce3067c4abca2b/cmake-3.27.4.1-py2.py3-none-manylinux2014_x86_64.manylinux_2_17_x86_64.whl.metadata\n",
      "  Downloading cmake-3.27.4.1-py2.py3-none-manylinux2014_x86_64.manylinux_2_17_x86_64.whl.metadata (6.7 kB)\n",
      "Collecting lit (from triton==2.0.0->torch)\n",
      "  Downloading lit-16.0.6.tar.gz (153 kB)\n",
      "\u001b[2K     \u001b[90m━━━━━━━━━━━━━━━━━━━━━━━━━━━━━━━━━━━━━\u001b[0m \u001b[32m153.7/153.7 kB\u001b[0m \u001b[31m248.2 kB/s\u001b[0m eta \u001b[36m0:00:00\u001b[0m00:01\u001b[0m00:01\u001b[0m\n",
      "\u001b[?25h  Installing build dependencies ... \u001b[?25ldone\n",
      "\u001b[?25h  Getting requirements to build wheel ... \u001b[?25ldone\n",
      "\u001b[?25h  Installing backend dependencies ... \u001b[?25ldone\n",
      "\u001b[?25h  Preparing metadata (pyproject.toml) ... \u001b[?25ldone\n",
      "\u001b[?25hCollecting typing-extensions (from torch)\n",
      "  Obtaining dependency information for typing-extensions from https://files.pythonhosted.org/packages/ec/6b/63cc3df74987c36fe26157ee12e09e8f9db4de771e0f3404263117e75b95/typing_extensions-4.7.1-py3-none-any.whl.metadata\n",
      "  Downloading typing_extensions-4.7.1-py3-none-any.whl.metadata (3.1 kB)\n",
      "Requirement already satisfied: MarkupSafe>=2.0 in /usr/local/lib/python3.10/dist-packages (from jinja2->torch) (2.1.3)\n",
      "Requirement already satisfied: mpmath>=0.19 in /usr/local/lib/python3.10/dist-packages (from sympy->torch) (1.3.0)\n",
      "Downloading filelock-3.12.3-py3-none-any.whl (11 kB)\n",
      "Downloading typing_extensions-4.7.1-py3-none-any.whl (33 kB)\n",
      "Downloading cmake-3.27.4.1-py2.py3-none-manylinux2014_x86_64.manylinux_2_17_x86_64.whl (26.1 MB)\n",
      "\u001b[2K   \u001b[90m━━━━━━━━━━━━━━━━━━━━━━━━━━━━━━━━━━━━━━━━\u001b[0m \u001b[32m26.1/26.1 MB\u001b[0m \u001b[31m379.9 kB/s\u001b[0m eta \u001b[36m0:00:00\u001b[0m00:01\u001b[0m00:02\u001b[0m\n",
      "\u001b[?25hBuilding wheels for collected packages: lit\n",
      "  Building wheel for lit (pyproject.toml) ... \u001b[?25ldone\n",
      "\u001b[?25h  Created wheel for lit: filename=lit-16.0.6-py3-none-any.whl size=93584 sha256=36c46dc449948afe856dd64c5a70f4d2fd616384e754f9e963552c4fd387a493\n",
      "  Stored in directory: /home/gjordi/.cache/pip/wheels/14/f9/07/bb2308587bc2f57158f905a2325f6a89a2befa7437b2d7e137\n",
      "Successfully built lit\n",
      "Installing collected packages: lit, cmake, typing-extensions, nvidia-nvtx-cu11, nvidia-nccl-cu11, nvidia-cusparse-cu11, nvidia-curand-cu11, nvidia-cufft-cu11, nvidia-cuda-runtime-cu11, nvidia-cuda-nvrtc-cu11, nvidia-cuda-cupti-cu11, nvidia-cublas-cu11, nvidia-cusolver-cu11, nvidia-cudnn-cu11, filelock, triton, torch\n",
      "\u001b[33m  WARNING: The script lit is installed in '/home/gjordi/.local/bin' which is not on PATH.\n",
      "  Consider adding this directory to PATH or, if you prefer to suppress this warning, use --no-warn-script-location.\u001b[0m\u001b[33m\n",
      "\u001b[0m\u001b[33m  WARNING: The scripts cmake, cpack and ctest are installed in '/home/gjordi/.local/bin' which is not on PATH.\n",
      "  Consider adding this directory to PATH or, if you prefer to suppress this warning, use --no-warn-script-location.\u001b[0m\u001b[33m\n",
      "\u001b[0m\u001b[33m  WARNING: The scripts convert-caffe2-to-onnx, convert-onnx-to-caffe2 and torchrun are installed in '/home/gjordi/.local/bin' which is not on PATH.\n",
      "  Consider adding this directory to PATH or, if you prefer to suppress this warning, use --no-warn-script-location.\u001b[0m\u001b[33m\n",
      "\u001b[0m\u001b[31mERROR: pip's dependency resolver does not currently take into account all the packages that are installed. This behaviour is the source of the following dependency conflicts.\n",
      "tensorflow 2.13.0 requires typing-extensions<4.6.0,>=3.6.6, but you have typing-extensions 4.7.1 which is incompatible.\u001b[0m\u001b[31m\n",
      "\u001b[0mSuccessfully installed cmake-3.27.4.1 filelock-3.12.3 lit-16.0.6 nvidia-cublas-cu11-11.10.3.66 nvidia-cuda-cupti-cu11-11.7.101 nvidia-cuda-nvrtc-cu11-11.7.99 nvidia-cuda-runtime-cu11-11.7.99 nvidia-cudnn-cu11-8.5.0.96 nvidia-cufft-cu11-10.9.0.58 nvidia-curand-cu11-10.2.10.91 nvidia-cusolver-cu11-11.4.0.1 nvidia-cusparse-cu11-11.7.4.91 nvidia-nccl-cu11-2.14.3 nvidia-nvtx-cu11-11.7.91 torch-2.0.1 triton-2.0.0 typing-extensions-4.7.1\n",
      "Note: you may need to restart the kernel to use updated packages.\n"
     ]
    }
   ],
   "source": [
    "pip install torch"
   ]
  },
  {
   "cell_type": "markdown",
   "id": "f8e66b19",
   "metadata": {},
   "source": [
    "### Preprocess Time Series Data"
   ]
  },
  {
   "cell_type": "code",
   "execution_count": 2,
   "id": "a33a1f56",
   "metadata": {
    "id": "a33a1f56"
   },
   "outputs": [],
   "source": [
    "import helper\n",
    "import pennylane\n",
    "import pandas as pd\n",
    "import time\n",
    "import numpy as np\n",
    "import math\n",
    "import matplotlib.pyplot as plt\n",
    "import torch\n",
    "\n",
    "from torch import *\n",
    "from torch import nn\n",
    "from torch.utils.data import DataLoader\n",
    "from IPython.display import Image\n"
   ]
  },
  {
   "cell_type": "markdown",
   "id": "3b37e1ea",
   "metadata": {
    "id": "3b37e1ea"
   },
   "source": [
    "Read the data and remove the Date and Unnamed column from the csv."
   ]
  },
  {
   "cell_type": "code",
   "execution_count": 3,
   "id": "31c36071",
   "metadata": {
    "colab": {
     "base_uri": "https://localhost:8080/",
     "height": 444
    },
    "id": "31c36071",
    "outputId": "9ba2febe-dd75-4873-bf65-bb9216651d5a"
   },
   "outputs": [
    {
     "data": {
      "text/html": [
       "<div>\n",
       "<style scoped>\n",
       "    .dataframe tbody tr th:only-of-type {\n",
       "        vertical-align: middle;\n",
       "    }\n",
       "\n",
       "    .dataframe tbody tr th {\n",
       "        vertical-align: top;\n",
       "    }\n",
       "\n",
       "    .dataframe thead th {\n",
       "        text-align: right;\n",
       "    }\n",
       "</style>\n",
       "<table border=\"1\" class=\"dataframe\">\n",
       "  <thead>\n",
       "    <tr style=\"text-align: right;\">\n",
       "      <th></th>\n",
       "      <th>Close</th>\n",
       "      <th>Volume</th>\n",
       "      <th>ma7</th>\n",
       "      <th>ma21</th>\n",
       "      <th>26ema</th>\n",
       "      <th>12ema</th>\n",
       "      <th>MACD</th>\n",
       "      <th>20sd</th>\n",
       "      <th>upper_band</th>\n",
       "      <th>lower_band</th>\n",
       "      <th>...</th>\n",
       "      <th>GSK</th>\n",
       "      <th>LLY</th>\n",
       "      <th>NVS</th>\n",
       "      <th>NYSE</th>\n",
       "      <th>NASDAQ</th>\n",
       "      <th>FT3</th>\n",
       "      <th>FT6</th>\n",
       "      <th>FT9</th>\n",
       "      <th>ARIMA</th>\n",
       "      <th>Close_lead1</th>\n",
       "    </tr>\n",
       "  </thead>\n",
       "  <tbody>\n",
       "    <tr>\n",
       "      <th>0</th>\n",
       "      <td>31.011450</td>\n",
       "      <td>14227229</td>\n",
       "      <td>30.050436</td>\n",
       "      <td>29.200291</td>\n",
       "      <td>29.514006</td>\n",
       "      <td>29.867322</td>\n",
       "      <td>0.353316</td>\n",
       "      <td>0.835852</td>\n",
       "      <td>30.871996</td>\n",
       "      <td>27.528586</td>\n",
       "      <td>...</td>\n",
       "      <td>20.441219</td>\n",
       "      <td>22.546120</td>\n",
       "      <td>26.214659</td>\n",
       "      <td>6671.140137</td>\n",
       "      <td>2017.979980</td>\n",
       "      <td>55.454947</td>\n",
       "      <td>50.337802</td>\n",
       "      <td>47.947327</td>\n",
       "      <td>31.011450</td>\n",
       "      <td>31.440840</td>\n",
       "    </tr>\n",
       "    <tr>\n",
       "      <th>1</th>\n",
       "      <td>31.440840</td>\n",
       "      <td>20081566</td>\n",
       "      <td>30.318975</td>\n",
       "      <td>29.299346</td>\n",
       "      <td>29.688906</td>\n",
       "      <td>30.115697</td>\n",
       "      <td>0.426791</td>\n",
       "      <td>0.963549</td>\n",
       "      <td>31.226444</td>\n",
       "      <td>27.372247</td>\n",
       "      <td>...</td>\n",
       "      <td>20.290920</td>\n",
       "      <td>22.639698</td>\n",
       "      <td>26.532934</td>\n",
       "      <td>6697.220215</td>\n",
       "      <td>2024.229980</td>\n",
       "      <td>55.359252</td>\n",
       "      <td>50.140845</td>\n",
       "      <td>47.659130</td>\n",
       "      <td>31.440840</td>\n",
       "      <td>31.183207</td>\n",
       "    </tr>\n",
       "    <tr>\n",
       "      <th>2</th>\n",
       "      <td>31.183207</td>\n",
       "      <td>10438080</td>\n",
       "      <td>30.564340</td>\n",
       "      <td>29.420211</td>\n",
       "      <td>29.822316</td>\n",
       "      <td>30.283528</td>\n",
       "      <td>0.461212</td>\n",
       "      <td>1.026446</td>\n",
       "      <td>31.473102</td>\n",
       "      <td>27.367319</td>\n",
       "      <td>...</td>\n",
       "      <td>20.280550</td>\n",
       "      <td>22.492653</td>\n",
       "      <td>26.608170</td>\n",
       "      <td>6687.939941</td>\n",
       "      <td>2024.430054</td>\n",
       "      <td>55.263482</td>\n",
       "      <td>49.944470</td>\n",
       "      <td>47.372320</td>\n",
       "      <td>31.183207</td>\n",
       "      <td>31.364504</td>\n",
       "    </tr>\n",
       "    <tr>\n",
       "      <th>3</th>\n",
       "      <td>31.364504</td>\n",
       "      <td>10302154</td>\n",
       "      <td>30.858779</td>\n",
       "      <td>29.556525</td>\n",
       "      <td>29.957940</td>\n",
       "      <td>30.452906</td>\n",
       "      <td>0.494965</td>\n",
       "      <td>1.086420</td>\n",
       "      <td>31.729366</td>\n",
       "      <td>27.383684</td>\n",
       "      <td>...</td>\n",
       "      <td>20.513784</td>\n",
       "      <td>22.800129</td>\n",
       "      <td>26.984316</td>\n",
       "      <td>6722.310059</td>\n",
       "      <td>2027.729980</td>\n",
       "      <td>55.167638</td>\n",
       "      <td>49.748691</td>\n",
       "      <td>47.086936</td>\n",
       "      <td>31.364504</td>\n",
       "      <td>30.839695</td>\n",
       "    </tr>\n",
       "    <tr>\n",
       "      <th>4</th>\n",
       "      <td>30.839695</td>\n",
       "      <td>12640452</td>\n",
       "      <td>30.973283</td>\n",
       "      <td>29.664667</td>\n",
       "      <td>30.034423</td>\n",
       "      <td>30.513340</td>\n",
       "      <td>0.478916</td>\n",
       "      <td>1.094567</td>\n",
       "      <td>31.853801</td>\n",
       "      <td>27.475534</td>\n",
       "      <td>...</td>\n",
       "      <td>20.285738</td>\n",
       "      <td>22.459227</td>\n",
       "      <td>26.857002</td>\n",
       "      <td>6709.040039</td>\n",
       "      <td>2028.770020</td>\n",
       "      <td>55.071723</td>\n",
       "      <td>49.553518</td>\n",
       "      <td>46.803017</td>\n",
       "      <td>30.839695</td>\n",
       "      <td>30.944656</td>\n",
       "    </tr>\n",
       "    <tr>\n",
       "      <th>...</th>\n",
       "      <td>...</td>\n",
       "      <td>...</td>\n",
       "      <td>...</td>\n",
       "      <td>...</td>\n",
       "      <td>...</td>\n",
       "      <td>...</td>\n",
       "      <td>...</td>\n",
       "      <td>...</td>\n",
       "      <td>...</td>\n",
       "      <td>...</td>\n",
       "      <td>...</td>\n",
       "      <td>...</td>\n",
       "      <td>...</td>\n",
       "      <td>...</td>\n",
       "      <td>...</td>\n",
       "      <td>...</td>\n",
       "      <td>...</td>\n",
       "      <td>...</td>\n",
       "      <td>...</td>\n",
       "      <td>...</td>\n",
       "      <td>...</td>\n",
       "    </tr>\n",
       "    <tr>\n",
       "      <th>2712</th>\n",
       "      <td>78.301529</td>\n",
       "      <td>13675457</td>\n",
       "      <td>75.931026</td>\n",
       "      <td>74.702836</td>\n",
       "      <td>75.305196</td>\n",
       "      <td>75.725497</td>\n",
       "      <td>0.420300</td>\n",
       "      <td>1.705192</td>\n",
       "      <td>78.113220</td>\n",
       "      <td>71.292452</td>\n",
       "      <td>...</td>\n",
       "      <td>38.856968</td>\n",
       "      <td>148.141144</td>\n",
       "      <td>82.393753</td>\n",
       "      <td>12302.190430</td>\n",
       "      <td>9682.910156</td>\n",
       "      <td>57.910147</td>\n",
       "      <td>55.622779</td>\n",
       "      <td>55.790021</td>\n",
       "      <td>76.887436</td>\n",
       "      <td>77.814888</td>\n",
       "    </tr>\n",
       "    <tr>\n",
       "      <th>2713</th>\n",
       "      <td>77.814888</td>\n",
       "      <td>9292930</td>\n",
       "      <td>76.515814</td>\n",
       "      <td>74.863687</td>\n",
       "      <td>75.491099</td>\n",
       "      <td>76.046941</td>\n",
       "      <td>0.555842</td>\n",
       "      <td>1.816324</td>\n",
       "      <td>78.496336</td>\n",
       "      <td>71.231038</td>\n",
       "      <td>...</td>\n",
       "      <td>38.423382</td>\n",
       "      <td>146.373550</td>\n",
       "      <td>81.836136</td>\n",
       "      <td>12286.980469</td>\n",
       "      <td>9615.809570</td>\n",
       "      <td>57.817099</td>\n",
       "      <td>55.415062</td>\n",
       "      <td>55.480641</td>\n",
       "      <td>78.191500</td>\n",
       "      <td>78.492363</td>\n",
       "    </tr>\n",
       "    <tr>\n",
       "      <th>2714</th>\n",
       "      <td>78.492363</td>\n",
       "      <td>10413347</td>\n",
       "      <td>77.157852</td>\n",
       "      <td>75.097238</td>\n",
       "      <td>75.713415</td>\n",
       "      <td>76.423160</td>\n",
       "      <td>0.709745</td>\n",
       "      <td>1.857931</td>\n",
       "      <td>78.813100</td>\n",
       "      <td>71.381377</td>\n",
       "      <td>...</td>\n",
       "      <td>38.469505</td>\n",
       "      <td>144.916718</td>\n",
       "      <td>82.576424</td>\n",
       "      <td>12641.440430</td>\n",
       "      <td>9814.080078</td>\n",
       "      <td>57.723926</td>\n",
       "      <td>55.207594</td>\n",
       "      <td>55.171523</td>\n",
       "      <td>77.972240</td>\n",
       "      <td>79.103050</td>\n",
       "    </tr>\n",
       "    <tr>\n",
       "      <th>2715</th>\n",
       "      <td>79.103050</td>\n",
       "      <td>9956838</td>\n",
       "      <td>77.684024</td>\n",
       "      <td>75.428935</td>\n",
       "      <td>75.964499</td>\n",
       "      <td>76.835451</td>\n",
       "      <td>0.870952</td>\n",
       "      <td>1.960788</td>\n",
       "      <td>79.350511</td>\n",
       "      <td>71.507360</td>\n",
       "      <td>...</td>\n",
       "      <td>39.087601</td>\n",
       "      <td>144.916718</td>\n",
       "      <td>82.364914</td>\n",
       "      <td>12836.599609</td>\n",
       "      <td>9924.750000</td>\n",
       "      <td>57.630627</td>\n",
       "      <td>55.000389</td>\n",
       "      <td>54.862711</td>\n",
       "      <td>78.309688</td>\n",
       "      <td>78.492363</td>\n",
       "    </tr>\n",
       "    <tr>\n",
       "      <th>2716</th>\n",
       "      <td>78.492363</td>\n",
       "      <td>8846168</td>\n",
       "      <td>77.893947</td>\n",
       "      <td>75.695202</td>\n",
       "      <td>76.151748</td>\n",
       "      <td>77.090360</td>\n",
       "      <td>0.938612</td>\n",
       "      <td>2.043482</td>\n",
       "      <td>79.782166</td>\n",
       "      <td>71.608238</td>\n",
       "      <td>...</td>\n",
       "      <td>38.635563</td>\n",
       "      <td>144.839020</td>\n",
       "      <td>85.018433</td>\n",
       "      <td>12619.519531</td>\n",
       "      <td>9953.750000</td>\n",
       "      <td>57.537207</td>\n",
       "      <td>54.793461</td>\n",
       "      <td>54.554253</td>\n",
       "      <td>79.039159</td>\n",
       "      <td>78.024811</td>\n",
       "    </tr>\n",
       "  </tbody>\n",
       "</table>\n",
       "<p>2717 rows × 34 columns</p>\n",
       "</div>"
      ],
      "text/plain": [
       "          Close    Volume        ma7       ma21      26ema      12ema  \\\n",
       "0     31.011450  14227229  30.050436  29.200291  29.514006  29.867322   \n",
       "1     31.440840  20081566  30.318975  29.299346  29.688906  30.115697   \n",
       "2     31.183207  10438080  30.564340  29.420211  29.822316  30.283528   \n",
       "3     31.364504  10302154  30.858779  29.556525  29.957940  30.452906   \n",
       "4     30.839695  12640452  30.973283  29.664667  30.034423  30.513340   \n",
       "...         ...       ...        ...        ...        ...        ...   \n",
       "2712  78.301529  13675457  75.931026  74.702836  75.305196  75.725497   \n",
       "2713  77.814888   9292930  76.515814  74.863687  75.491099  76.046941   \n",
       "2714  78.492363  10413347  77.157852  75.097238  75.713415  76.423160   \n",
       "2715  79.103050   9956838  77.684024  75.428935  75.964499  76.835451   \n",
       "2716  78.492363   8846168  77.893947  75.695202  76.151748  77.090360   \n",
       "\n",
       "          MACD      20sd  upper_band  lower_band  ...        GSK         LLY  \\\n",
       "0     0.353316  0.835852   30.871996   27.528586  ...  20.441219   22.546120   \n",
       "1     0.426791  0.963549   31.226444   27.372247  ...  20.290920   22.639698   \n",
       "2     0.461212  1.026446   31.473102   27.367319  ...  20.280550   22.492653   \n",
       "3     0.494965  1.086420   31.729366   27.383684  ...  20.513784   22.800129   \n",
       "4     0.478916  1.094567   31.853801   27.475534  ...  20.285738   22.459227   \n",
       "...        ...       ...         ...         ...  ...        ...         ...   \n",
       "2712  0.420300  1.705192   78.113220   71.292452  ...  38.856968  148.141144   \n",
       "2713  0.555842  1.816324   78.496336   71.231038  ...  38.423382  146.373550   \n",
       "2714  0.709745  1.857931   78.813100   71.381377  ...  38.469505  144.916718   \n",
       "2715  0.870952  1.960788   79.350511   71.507360  ...  39.087601  144.916718   \n",
       "2716  0.938612  2.043482   79.782166   71.608238  ...  38.635563  144.839020   \n",
       "\n",
       "            NVS          NYSE       NASDAQ        FT3        FT6        FT9  \\\n",
       "0     26.214659   6671.140137  2017.979980  55.454947  50.337802  47.947327   \n",
       "1     26.532934   6697.220215  2024.229980  55.359252  50.140845  47.659130   \n",
       "2     26.608170   6687.939941  2024.430054  55.263482  49.944470  47.372320   \n",
       "3     26.984316   6722.310059  2027.729980  55.167638  49.748691  47.086936   \n",
       "4     26.857002   6709.040039  2028.770020  55.071723  49.553518  46.803017   \n",
       "...         ...           ...          ...        ...        ...        ...   \n",
       "2712  82.393753  12302.190430  9682.910156  57.910147  55.622779  55.790021   \n",
       "2713  81.836136  12286.980469  9615.809570  57.817099  55.415062  55.480641   \n",
       "2714  82.576424  12641.440430  9814.080078  57.723926  55.207594  55.171523   \n",
       "2715  82.364914  12836.599609  9924.750000  57.630627  55.000389  54.862711   \n",
       "2716  85.018433  12619.519531  9953.750000  57.537207  54.793461  54.554253   \n",
       "\n",
       "          ARIMA  Close_lead1  \n",
       "0     31.011450    31.440840  \n",
       "1     31.440840    31.183207  \n",
       "2     31.183207    31.364504  \n",
       "3     31.364504    30.839695  \n",
       "4     30.839695    30.944656  \n",
       "...         ...          ...  \n",
       "2712  76.887436    77.814888  \n",
       "2713  78.191500    78.492363  \n",
       "2714  77.972240    79.103050  \n",
       "2715  78.309688    78.492363  \n",
       "2716  79.039159    78.024811  \n",
       "\n",
       "[2717 rows x 34 columns]"
      ]
     },
     "execution_count": 3,
     "metadata": {},
     "output_type": "execute_result"
    }
   ],
   "source": [
    "df = pd.read_csv('dataset_stockPrices.csv')\n",
    "df = df.drop(['Date' ,'Unnamed: 0'], axis=1)\n",
    "df"
   ]
  },
  {
   "cell_type": "markdown",
   "id": "4aaa9b52",
   "metadata": {
    "id": "4aaa9b52"
   },
   "source": [
    "We identify the dependent and independent variables:"
   ]
  },
  {
   "cell_type": "code",
   "execution_count": 4,
   "id": "d53abe07",
   "metadata": {
    "id": "d53abe07"
   },
   "outputs": [],
   "source": [
    "target = \"Close_lead1\""
   ]
  },
  {
   "cell_type": "code",
   "execution_count": 5,
   "id": "a8cedb86",
   "metadata": {
    "colab": {
     "base_uri": "https://localhost:8080/"
    },
    "id": "a8cedb86",
    "outputId": "28a56125-d141-417f-f67c-70e3624041d8"
   },
   "outputs": [
    {
     "data": {
      "text/plain": [
       "['12ema',\n",
       " '20sd',\n",
       " '26ema',\n",
       " 'AMGN',\n",
       " 'ARIMA',\n",
       " 'BMY',\n",
       " 'FT3',\n",
       " 'FT6',\n",
       " 'FT9',\n",
       " 'GSK',\n",
       " 'JNJ',\n",
       " 'LLY',\n",
       " 'MACD',\n",
       " 'NASDAQ',\n",
       " 'NVS',\n",
       " 'NYSE',\n",
       " 'PFE',\n",
       " 'SNP',\n",
       " 'SNY',\n",
       " 'VTRS',\n",
       " 'VZ',\n",
       " 'Volume',\n",
       " 'ema',\n",
       " 'log_momentum',\n",
       " 'lower_band',\n",
       " 'ma21',\n",
       " 'ma7',\n",
       " 'momentum',\n",
       " 'neg',\n",
       " 'neu',\n",
       " 'pos',\n",
       " 'upper_band']"
      ]
     },
     "execution_count": 5,
     "metadata": {},
     "output_type": "execute_result"
    }
   ],
   "source": [
    "features = list(df.columns.difference([\"Close\", 'Close_lead1']))\n",
    "features"
   ]
  },
  {
   "cell_type": "markdown",
   "id": "a65613d0",
   "metadata": {
    "id": "a65613d0"
   },
   "source": [
    "### Data Processing"
   ]
  },
  {
   "cell_type": "markdown",
   "id": "0c7baf43",
   "metadata": {
    "id": "0c7baf43"
   },
   "source": [
    "To preprocess the data, we initiate the procedure by partitioning it into training and testing datasets. Specifically, we allocate two-thirds of the data for the training set, while reserving the remaining one-third for the testing set."
   ]
  },
  {
   "cell_type": "code",
   "execution_count": 6,
   "id": "465d24a1",
   "metadata": {
    "id": "465d24a1"
   },
   "outputs": [],
   "source": [
    "training_percentage = 0.67\n",
    "size = int(len(df) * training_percentage)\n",
    "\n",
    "df_train = df.loc[:size].copy()\n",
    "df_test = df.loc[size:].copy()"
   ]
  },
  {
   "cell_type": "markdown",
   "id": "dc621071",
   "metadata": {
    "id": "dc621071"
   },
   "source": [
    "Subsequently, to mitigate the potential dominance of certain values within the features due to their magnitude, we *standardize* the data."
   ]
  },
  {
   "cell_type": "code",
   "execution_count": 7,
   "id": "bff7d289",
   "metadata": {
    "id": "bff7d289"
   },
   "outputs": [],
   "source": [
    "target_mean = df_train[target].mean()\n",
    "target_stdev = df_train[target].std()\n",
    "\n",
    "for c in df_train.columns:\n",
    "    mean = df_train[c].mean()\n",
    "    stdev = df_train[c].std()\n",
    "\n",
    "    df_train[c] = (df_train[c] - mean) / stdev\n",
    "    df_test[c] = (df_test[c] - mean) / stdev"
   ]
  },
  {
   "cell_type": "code",
   "execution_count": 8,
   "id": "134bb0c2",
   "metadata": {
    "id": "134bb0c2"
   },
   "outputs": [],
   "source": [
    "from utils import SequenceDataset"
   ]
  },
  {
   "cell_type": "markdown",
   "id": "6e9b59fe",
   "metadata": {
    "id": "6e9b59fe"
   },
   "source": [
    "Lastly, the final stage in data processing, essential for LSTM preparation, involves organizing the data into a sequence of historical observations. For LSTM to effectively operate on time series data, it relies on utilizing a specific number of past observations to make future predictions. In our scenario, the sequence length determines the extent of historical context considered by the LSTM in forecasting. Having $n$ data, the LSTM can predict the next step ($n+1$) time series data. "
   ]
  },
  {
   "cell_type": "code",
   "execution_count": 9,
   "id": "3029e88d",
   "metadata": {
    "colab": {
     "base_uri": "https://localhost:8080/"
    },
    "id": "3029e88d",
    "outputId": "d835fc69-5281-46a8-db69-98f4afa9289e"
   },
   "outputs": [
    {
     "name": "stdout",
     "output_type": "stream",
     "text": [
      "Features shape: torch.Size([1, 3, 32])\n",
      "Target shape: torch.Size([1])\n"
     ]
    }
   ],
   "source": [
    "torch.manual_seed(101) #Sets the seed for generating random numbers.\n",
    "\n",
    "batch_size = 1\n",
    "sequence_length = 3\n",
    "\n",
    "train_dataset = SequenceDataset(\n",
    "    df_train,\n",
    "    target=target,\n",
    "    features=features,\n",
    "    sequence_length=sequence_length\n",
    ")\n",
    "test_dataset = SequenceDataset(\n",
    "    df_test,\n",
    "    target=target,\n",
    "    features=features,\n",
    "    sequence_length=sequence_length\n",
    ")\n",
    "\n",
    "train_loader = DataLoader(train_dataset, batch_size=batch_size, shuffle=True)\n",
    "test_loader = DataLoader(test_dataset, batch_size=batch_size, shuffle=False)\n",
    "\n",
    "X, y = next(iter(train_loader))\n",
    "\n",
    "print(\"Features shape:\", X.shape)\n",
    "print(\"Target shape:\", y.shape)"
   ]
  },
  {
   "cell_type": "markdown",
   "id": "245af1d7",
   "metadata": {
    "id": "245af1d7"
   },
   "source": [
    "### Training classical LSTM"
   ]
  },
  {
   "cell_type": "markdown",
   "id": "50a784bc",
   "metadata": {
    "id": "50a784bc"
   },
   "source": [
    "We define the following training methods:\n",
    "\n",
    "train_model: This function is designed for model training using data batches.\n",
    "test_model: This function is tailored for evaluating the model's performance on the testing data.\n",
    "\n",
    "We display the loss metric as a diagnostic tool to measure the model's performance in relation to the provided data."
   ]
  },
  {
   "cell_type": "code",
   "execution_count": 10,
   "id": "dbe496cd",
   "metadata": {
    "id": "dbe496cd"
   },
   "outputs": [],
   "source": [
    "def train_model(data_loader, model, loss_function, optimizer):\n",
    "    num_batches = len(data_loader)\n",
    "    total_loss = 0\n",
    "    model.train()\n",
    "\n",
    "    for X, y in data_loader:\n",
    "        output = model(X)\n",
    "        loss = loss_function(output, y)\n",
    "\n",
    "        optimizer.zero_grad()\n",
    "        loss.backward()\n",
    "        optimizer.step()\n",
    "\n",
    "        total_loss += loss.item()\n",
    "\n",
    "    avg_loss = total_loss / num_batches\n",
    "    print(f\"Train loss: {avg_loss}\")\n",
    "    return avg_loss\n",
    "\n",
    "def test_model(data_loader, model, loss_function):\n",
    "\n",
    "    num_batches = len(data_loader)\n",
    "    total_loss = 0\n",
    "\n",
    "    model.eval()\n",
    "    with torch.no_grad():\n",
    "        for X, y in data_loader:\n",
    "            output = model(X)\n",
    "            total_loss += loss_function(output, y).item()\n",
    "\n",
    "    avg_loss = total_loss / num_batches\n",
    "    print(f\"Test loss: {avg_loss}\")\n",
    "    return avg_loss"
   ]
  },
  {
   "cell_type": "markdown",
   "id": "8dd5d66a",
   "metadata": {
    "id": "8dd5d66a"
   },
   "source": [
    "### Running the Classical LSTM"
   ]
  },
  {
   "cell_type": "markdown",
   "id": "8dd7aabb",
   "metadata": {
    "id": "8dd7aabb"
   },
   "source": [
    "To gain insight into our QLSTM implementation, we'll start by elucidating our LSTM implementation. The LSTM architecture adheres to the following structure:\n",
    "</br>\n",
    "<img src=\"lstm2.jpg\" alt=\"drawing\" width=\"400\"/>\n",
    "Quantum Long Short-Term Memory, https://arxiv.org/pdf/2009.01783.pdf (Samuel Yen-Chi Chen, Shinjae Yoo, and Yao-Lung L. Fang (2020))\n",
    "\n",
    "In straightforward terms, an LSTM employs a structure composed of four distinct neural network layers within each LSTM cell. These layers are as follows:\n",
    "\n",
    "1.- Forget Layer </br>\n",
    "2.- Input Layer </br>\n",
    "3.- Update Layer </br>\n",
    "4.- Output Layer </br>\n",
    "\n",
    "You can observe these corresponding layers within the \"W\" cells illustrated in the diagram above. While we won't delve into the intricate technicalities here, it's crucial to recognize that these four layers constitute the fundamental components of an LSTM neural network model. These layers typically resemble conventional neural network layers, such as linear layers with rectified linear unit (ReLU) activations or convolutional layers.\n",
    "\n",
    "In the upcoming code section, we ilutrate the training of an LSTM model with the objective of forecasting future stock prices. Subsequently, we assess its performance on the test dataset. The selection of a learning rate of 0.0001 has been a product of careful experimentation, where we identified the learning rate that consistently delivered precise results. In terms of training, we opt for a total of 20 epochs, a number we deemed adequate for achieving convergence and fulfilling the goals outlined in this notebook. Following training, we proceed to visualize three distinct graphs:\n",
    "\n",
    "* A comparison plot that illustrates the model's predictions against actual stock prices.\n",
    "* A graphical representation depicting the progression of test loss and training loss across epochs."
   ]
  },
  {
   "cell_type": "code",
   "execution_count": 11,
   "id": "1b0568ab",
   "metadata": {
    "id": "1b0568ab"
   },
   "outputs": [],
   "source": [
    "from utils import ShallowRegressionLSTM"
   ]
  },
  {
   "cell_type": "code",
   "execution_count": 12,
   "id": "2a758f02",
   "metadata": {
    "id": "2a758f02"
   },
   "outputs": [],
   "source": [
    "learning_rate = 0.0001\n",
    "num_hidden_units = 16\n",
    "\n",
    "model = ShallowRegressionLSTM(num_sensors=len(features), hidden_units=num_hidden_units)\n",
    "loss_function = nn.MSELoss()\n",
    "optimizer = torch.optim.Adam(model.parameters(), lr=learning_rate)"
   ]
  },
  {
   "cell_type": "code",
   "execution_count": 13,
   "id": "5e2cdd9a",
   "metadata": {
    "colab": {
     "base_uri": "https://localhost:8080/"
    },
    "id": "5e2cdd9a",
    "outputId": "23a5c4f0-055e-433e-82ff-0928cef43316"
   },
   "outputs": [
    {
     "name": "stdout",
     "output_type": "stream",
     "text": [
      "Untrained test\n",
      "--------\n",
      "Test loss: 8.610089941101862\n",
      "\n",
      "Epoch 0.0\n",
      "---------\n"
     ]
    },
    {
     "name": "stderr",
     "output_type": "stream",
     "text": [
      "/tmp/ipykernel_761321/958950701.py:8: UserWarning: torch.range is deprecated and will be removed in a future release because its behavior is inconsistent with Python's range builtin. Instead, use torch.arange, which produces values in [start, end).\n",
      "  for ix_epoch in range(0,21):\n"
     ]
    },
    {
     "name": "stdout",
     "output_type": "stream",
     "text": [
      "Train loss: 0.2653262402012538\n",
      "Test loss: 2.6338869232060285\n",
      "Epoch 1.0\n",
      "---------\n",
      "Train loss: 0.03469269280638105\n",
      "Test loss: 2.0061178749001685\n",
      "Epoch 2.0\n",
      "---------\n",
      "Train loss: 0.017827947496982466\n",
      "Test loss: 1.7888867040726146\n",
      "Epoch 3.0\n",
      "---------\n",
      "Train loss: 0.011995089277133544\n",
      "Test loss: 1.6140611409709713\n",
      "Epoch 4.0\n",
      "---------\n",
      "Train loss: 0.00945538438808649\n",
      "Test loss: 1.514277397436119\n",
      "Epoch 5.0\n",
      "---------\n",
      "Train loss: 0.008296078886207226\n",
      "Test loss: 1.481324027832966\n",
      "Epoch 6.0\n",
      "---------\n",
      "Train loss: 0.007585738449933698\n",
      "Test loss: 1.41789564289366\n",
      "Epoch 7.0\n",
      "---------\n",
      "Train loss: 0.0071506967065071226\n",
      "Test loss: 1.4101454050515716\n",
      "Epoch 8.0\n",
      "---------\n",
      "Train loss: 0.00669386386567835\n",
      "Test loss: 1.3786947096932443\n",
      "Epoch 9.0\n",
      "---------\n",
      "Train loss: 0.006252353778430668\n",
      "Test loss: 1.3218226579330141\n",
      "Epoch 10.0\n",
      "---------\n",
      "Train loss: 0.0060510076114770744\n",
      "Test loss: 1.3044834135084933\n",
      "Epoch 11.0\n",
      "---------\n",
      "Train loss: 0.005730820190387431\n",
      "Test loss: 1.2836491360639708\n",
      "Epoch 12.0\n",
      "---------\n",
      "Train loss: 0.005584538817619496\n",
      "Test loss: 1.315294141227878\n",
      "Epoch 13.0\n",
      "---------\n",
      "Train loss: 0.005422492200583691\n",
      "Test loss: 1.3341204470382741\n",
      "Epoch 14.0\n",
      "---------\n",
      "Train loss: 0.005218931008467131\n",
      "Test loss: 1.2647965689719656\n",
      "Epoch 15.0\n",
      "---------\n",
      "Train loss: 0.0051198845591649425\n",
      "Test loss: 1.2879872381222714\n",
      "Epoch 16.0\n",
      "---------\n",
      "Train loss: 0.004982326558311002\n",
      "Test loss: 1.289519111049899\n",
      "Epoch 17.0\n",
      "---------\n",
      "Train loss: 0.004836427831914713\n",
      "Test loss: 1.2247059241627871\n",
      "Epoch 18.0\n",
      "---------\n",
      "Train loss: 0.00471787902510652\n",
      "Test loss: 1.2934299454353468\n",
      "Epoch 19.0\n",
      "---------\n",
      "Train loss: 0.004674595780022303\n",
      "Test loss: 1.2694100106437576\n",
      "Epoch 20.0\n",
      "---------\n",
      "Train loss: 0.004569739070585372\n",
      "Test loss: 1.204062075644923\n",
      "Epoch 21.0\n",
      "---------\n",
      "Train loss: 0.004493326229989528\n",
      "Test loss: 1.2040515422630527\n"
     ]
    }
   ],
   "source": [
    "classical_loss_train = []\n",
    "classical_loss_test = []\n",
    "print(\"Untrained test\\n--------\")\n",
    "test_loss = test_model(test_loader, model, loss_function)\n",
    "print()\n",
    "classical_loss_test.append(test_loss)\n",
    "\n",
    "for ix_epoch in range(0,21):\n",
    "  print(f\"Epoch {ix_epoch}\\n---------\")\n",
    "  train_loss = train_model(train_loader, model, loss_function, optimizer=optimizer)\n",
    "  test_loss = test_model(test_loader, model, loss_function)\n",
    "  classical_loss_train.append(train_loss)\n",
    "  classical_loss_test.append(test_loss)\n"
   ]
  },
  {
   "cell_type": "markdown",
   "id": "2f44945e",
   "metadata": {
    "id": "2f44945e"
   },
   "source": [
    "Subsequently, we utilize the trained model to make predictions on the test dataset, followed by a thorough comparison of the predicted values with the actual ground truth values."
   ]
  },
  {
   "cell_type": "code",
   "execution_count": 14,
   "id": "478ffa72",
   "metadata": {
    "id": "478ffa72"
   },
   "outputs": [],
   "source": [
    "def predict(data_loader, model):\n",
    "    output = torch.tensor([])\n",
    "    model.eval()\n",
    "    with torch.no_grad():\n",
    "        for X, _ in data_loader:\n",
    "            y_star = model(X)\n",
    "            output = torch.cat((output, y_star), 0)\n",
    "\n",
    "    return output"
   ]
  },
  {
   "cell_type": "code",
   "execution_count": 15,
   "id": "58531cc4",
   "metadata": {
    "colab": {
     "base_uri": "https://localhost:8080/"
    },
    "id": "58531cc4",
    "outputId": "72eee9a1-f146-4db1-80bb-7f466da3f2bc"
   },
   "outputs": [
    {
     "name": "stdout",
     "output_type": "stream",
     "text": [
      "      Close_lead1  Model forecast\n",
      "0       31.440840       30.782757\n",
      "1       31.183207       30.853786\n",
      "2       31.364504       31.018034\n",
      "3       30.839695       31.142878\n",
      "4       30.944656       30.962921\n",
      "...           ...             ...\n",
      "2712    77.814888       62.619530\n",
      "2713    78.492363       62.696144\n",
      "2714    79.103050       62.831009\n",
      "2715    78.492363       62.947678\n",
      "2716    78.024811       62.893097\n",
      "\n",
      "[2718 rows x 2 columns]\n"
     ]
    }
   ],
   "source": [
    "train_eval_loader = DataLoader(train_dataset, batch_size=batch_size, shuffle=False)\n",
    "\n",
    "ystar_col = \"Model forecast\"\n",
    "df_train[ystar_col] = predict(train_eval_loader, model).numpy()\n",
    "df_test[ystar_col] = predict(test_loader, model).numpy()\n",
    "\n",
    "df_out = pd.concat((df_train, df_test))[[target, ystar_col]]\n",
    "\n",
    "for c in df_out.columns:\n",
    "    df_out[c] = df_out[c] * target_stdev + target_mean\n",
    "\n",
    "print(df_out)"
   ]
  },
  {
   "cell_type": "code",
   "execution_count": 16,
   "id": "099ed8ce",
   "metadata": {
    "colab": {
     "base_uri": "https://localhost:8080/",
     "height": 708
    },
    "id": "099ed8ce",
    "outputId": "7faf8b6a-63f4-4385-88d4-0b4e6cc5e022"
   },
   "outputs": [
    {
     "name": "stderr",
     "output_type": "stream",
     "text": [
      "/tmp/ipykernel_761321/875173430.py:2: UserWarning: torch.range is deprecated and will be removed in a future release because its behavior is inconsistent with Python's range builtin. Instead, use torch.arange, which produces values in [start, end).\n",
      "  plt.plot(range(0,2717), df_out[\"Close_lead1\"], label = \"Real\")\n",
      "/tmp/ipykernel_761321/875173430.py:3: UserWarning: torch.range is deprecated and will be removed in a future release because its behavior is inconsistent with Python's range builtin. Instead, use torch.arange, which produces values in [start, end).\n",
      "  plt.plot(range(0,2717), df_out[\"Model forecast\"], label = \"LSTM Prediction\")\n"
     ]
    },
    {
     "data": {
      "image/png": "[encoded data removed]",
      "text/plain": [
       "<Figure size 1200x700 with 1 Axes>"
      ]
     },
     "metadata": {},
     "output_type": "display_data"
    }
   ],
   "source": [
    "plt.figure(figsize=(12, 7))\n",
    "plt.plot(range(0,2717), df_out[\"Close_lead1\"], label = \"Real\")\n",
    "plt.plot(range(0,2717), df_out[\"Model forecast\"], label = \"LSTM Prediction\")\n",
    "plt.ylabel('Stock Price')\n",
    "plt.xlabel('Days')\n",
    "plt.vlines(size, ymin = 30, ymax = 90, label = \"Test set start\", linestyles = \"dashed\")\n",
    "plt.legend()\n",
    "plt.show()"
   ]
  },
  {
   "cell_type": "code",
   "execution_count": 17,
   "id": "ca40c7b3",
   "metadata": {
    "colab": {
     "base_uri": "https://localhost:8080/",
     "height": 597
    },
    "id": "ca40c7b3",
    "outputId": "89a6103f-b51a-4652-f1d2-53946bdf065a"
   },
   "outputs": [
    {
     "name": "stderr",
     "output_type": "stream",
     "text": [
      "/tmp/ipykernel_761321/2131256969.py:2: UserWarning: torch.range is deprecated and will be removed in a future release because its behavior is inconsistent with Python's range builtin. Instead, use torch.arange, which produces values in [start, end).\n",
      "  plt.plot(range(0, 22), classical_loss_test)\n"
     ]
    },
    {
     "data": {
      "image/png": "[encoded data removed]",
      "text/plain": [
       "<Figure size 800x600 with 1 Axes>"
      ]
     },
     "metadata": {},
     "output_type": "display_data"
    }
   ],
   "source": [
    "plt.figure(figsize=(8, 6))\n",
    "plt.plot(range(0, 22), classical_loss_test)\n",
    "plt.ylabel('Test Loss')\n",
    "plt.xlabel('Epoch')\n",
    "plt.show()"
   ]
  },
  {
   "cell_type": "code",
   "execution_count": 18,
   "id": "1b7e9df8",
   "metadata": {
    "colab": {
     "base_uri": "https://localhost:8080/",
     "height": 597
    },
    "id": "1b7e9df8",
    "outputId": "a3fce0c5-5136-4419-d4a8-45d29ebd2849"
   },
   "outputs": [
    {
     "name": "stderr",
     "output_type": "stream",
     "text": [
      "/tmp/ipykernel_761321/1382818532.py:2: UserWarning: torch.range is deprecated and will be removed in a future release because its behavior is inconsistent with Python's range builtin. Instead, use torch.arange, which produces values in [start, end).\n",
      "  plt.plot(range(0, 21), classical_loss_train)\n"
     ]
    },
    {
     "data": {
      "image/png": "[encoded data removed]",
      "text/plain": [
       "<Figure size 800x600 with 1 Axes>"
      ]
     },
     "metadata": {},
     "output_type": "display_data"
    }
   ],
   "source": [
    "plt.figure(figsize=(8, 6))\n",
    "plt.plot(range(0, 21), classical_loss_train)\n",
    "plt.ylabel('Train Loss')\n",
    "plt.xlabel('Epoch')\n",
    "plt.show()"
   ]
  },
  {
   "cell_type": "markdown",
   "id": "11e1f720",
   "metadata": {
    "id": "11e1f720"
   },
   "source": [
    "### Running the Quantum-LSTM"
   ]
  },
  {
   "cell_type": "markdown",
   "id": "2f6f3a9e",
   "metadata": {
    "id": "2f6f3a9e"
   },
   "source": [
    "To implement QLSTM, we then replace the 4 key layers of the LSTM with variational quantum layers enabled by Pennylane. The variational quantum layers are based on the following variational quantum circuits.\n",
    "<br/>\n",
    "<br/>\n",
    "QLSTM model: <br/>\n",
    "<img src=\"QLSTM.PNG\" alt=\"drawing\" width=\"600\"/>\n",
    "<br/>\n",
    "VQC: <br/>\n",
    "<img src=\"vqc.jpg\" alt=\"drawing\" width=\"600\"/>\n",
    "\n",
    "Quantum Long Short-Term Memory, https://arxiv.org/pdf/2009.01783.pdf. By Samuel Yen-Chi Chen, Shinjae Yoo, and Yao-Lung L. Fang\n",
    "\n",
    "As a consequence, the parameters subject to training are now the rotational parameters embedded within the quantum circuits, thereby giving rise to a hybrid quantum-classical neural network layer (with the optimizer being classical in nature). In the QLSTM research paper, the authors demonstrate that QLSTM exhibits superior trainability by \"acquiring significantly more information than LSTM right from the outset of the first training epoch, and its loss diminishes more consistently and rapidly than that of its classical counterpart\". Consequently, the aim of this study is to substantiate that QLSTM possesses the potential to surpass its classical counterpart in terms of accuracy and the rate at which it learns with each epoch.\n",
    "\n",
    "While we have repurposed and made certain modifications to adapt it to our specific requirements, such as aligning it with the variational quantum circuits depicted above, we have also harnessed the built-in Pennylane simulator to execute these variational quantum circuits.\n",
    "\n",
    "In the subsequent code section, our objective is to train a QLSTM model designed to forecast MRK stock prices. This exercise serves as a proof of concept, demonstrating that QLSTM not only holds potential for stock price prediction but also offers advantages over its classical counterpart. Our chosen configuration consists of 4 qubits, a single variational layer, and a learning rate of 0.05. The decision to employ 4 qubits was motivated by our desire to showcase its feasibility even with a limited number of qubits, while the latter two parameters were determined through experimentation over a few epochs to ascertain which settings yielded the most favorable results. Following training, we proceed to visualize three distinct graphs akin to those presented in the classical example."
   ]
  },
  {
   "cell_type": "code",
   "execution_count": 19,
   "id": "307a49c5",
   "metadata": {
    "id": "307a49c5"
   },
   "outputs": [],
   "source": [
    "from utils import QShallowRegressionLSTM"
   ]
  },
  {
   "cell_type": "code",
   "execution_count": 20,
   "id": "850bac7a",
   "metadata": {
    "colab": {
     "base_uri": "https://localhost:8080/"
    },
    "id": "850bac7a",
    "outputId": "1326e89e-d863-4936-cbad-be2b24b0ae2f"
   },
   "outputs": [
    {
     "name": "stdout",
     "output_type": "stream",
     "text": [
      "weight_shapes = (n_qlayers, n_vrotations, n_qubits) = (1, 3, 4)\n"
     ]
    }
   ],
   "source": [
    "learning_rate = 0.05\n",
    "num_hidden_units = 16\n",
    "\n",
    "Qmodel = QShallowRegressionLSTM(num_sensors=len(features), hidden_units=num_hidden_units, n_qubits=4)\n",
    "loss_function = nn.MSELoss()\n",
    "optimizer = torch.optim.Adagrad(Qmodel.parameters(), lr=learning_rate)"
   ]
  },
  {
   "cell_type": "code",
   "execution_count": 21,
   "id": "02505957",
   "metadata": {
    "colab": {
     "base_uri": "https://localhost:8080/"
    },
    "id": "02505957",
    "outputId": "6c3757f2-b9c9-4e8e-a3d2-2af55c0c6b16"
   },
   "outputs": [
    {
     "name": "stdout",
     "output_type": "stream",
     "text": [
      "Untrained test\n",
      "--------\n",
      "Test loss: 7.388531394892579\n",
      "Execution time 46.25489330291748\n",
      "Epoch 0.0\n",
      "---------\n"
     ]
    },
    {
     "name": "stderr",
     "output_type": "stream",
     "text": [
      "/tmp/ipykernel_761321/3863622132.py:10: UserWarning: torch.range is deprecated and will be removed in a future release because its behavior is inconsistent with Python's range builtin. Instead, use torch.arange, which produces values in [start, end).\n",
      "  for ix_epoch in range(0, 20):\n"
     ]
    },
    {
     "name": "stdout",
     "output_type": "stream",
     "text": [
      "Train loss: 0.03873622903740212\n",
      "Test loss: 1.5048264763160646\n",
      "Execution time 193.9372375011444\n",
      "Epoch 1.0\n",
      "---------\n",
      "Train loss: 0.006378392479979454\n",
      "Test loss: 1.4779276203286835\n",
      "Execution time 192.30050992965698\n",
      "Epoch 2.0\n",
      "---------\n",
      "Train loss: 0.005503449055604475\n",
      "Test loss: 1.3762721738047143\n",
      "Execution time 190.61035251617432\n",
      "Epoch 3.0\n",
      "---------\n",
      "Train loss: 0.0050431485866605135\n",
      "Test loss: 1.2830762089036127\n",
      "Execution time 191.17777967453003\n",
      "Epoch 4.0\n",
      "---------\n",
      "Train loss: 0.004840009383289066\n",
      "Test loss: 1.2638921796090588\n",
      "Execution time 190.13758492469788\n",
      "Epoch 5.0\n",
      "---------\n",
      "Train loss: 0.004611036698624931\n",
      "Test loss: 1.2715402477987838\n",
      "Execution time 190.2444088459015\n",
      "Epoch 6.0\n",
      "---------\n",
      "Train loss: 0.00447066200376113\n",
      "Test loss: 1.276222063936188\n",
      "Execution time 192.2297899723053\n",
      "Epoch 7.0\n",
      "---------\n",
      "Train loss: 0.004331083323039954\n",
      "Test loss: 1.241289427212896\n",
      "Execution time 190.4207694530487\n",
      "Epoch 8.0\n",
      "---------\n",
      "Train loss: 0.004306482673100776\n",
      "Test loss: 1.1957464668694102\n",
      "Execution time 190.12880659103394\n",
      "Epoch 9.0\n",
      "---------\n",
      "Train loss: 0.004272482779365661\n",
      "Test loss: 1.2189960194010512\n",
      "Execution time 193.32959747314453\n",
      "Epoch 10.0\n",
      "---------\n",
      "Train loss: 0.0041264799356366365\n",
      "Test loss: 1.1712609967657968\n",
      "Execution time 193.06964421272278\n",
      "Epoch 11.0\n",
      "---------\n",
      "Train loss: 0.0041583147730331685\n",
      "Test loss: 1.1739242943478794\n",
      "Execution time 192.06803345680237\n",
      "Epoch 12.0\n",
      "---------\n",
      "Train loss: 0.004121801481252705\n",
      "Test loss: 1.1814498558202466\n",
      "Execution time 191.8247139453888\n",
      "Epoch 13.0\n",
      "---------\n",
      "Train loss: 0.004016311368682803\n",
      "Test loss: 1.1530575387647484\n",
      "Execution time 191.42789888381958\n",
      "Epoch 14.0\n",
      "---------\n",
      "Train loss: 0.004021351374075974\n",
      "Test loss: 1.1393494671390292\n",
      "Execution time 192.61532068252563\n",
      "Epoch 15.0\n",
      "---------\n",
      "Train loss: 0.00400261161545795\n",
      "Test loss: 1.1058931433006578\n",
      "Execution time 191.33488869667053\n",
      "Epoch 16.0\n",
      "---------\n",
      "Train loss: 0.0040154047398023515\n",
      "Test loss: 1.0901284126250443\n",
      "Execution time 190.4645128250122\n",
      "Epoch 17.0\n",
      "---------\n",
      "Train loss: 0.003984350181208576\n",
      "Test loss: 1.0964523209779453\n",
      "Execution time 191.16956305503845\n",
      "Epoch 18.0\n",
      "---------\n",
      "Train loss: 0.003963630146571654\n",
      "Test loss: 1.0973754744961255\n",
      "Execution time 191.66084671020508\n",
      "Epoch 19.0\n",
      "---------\n",
      "Train loss: 0.00390300363344188\n",
      "Test loss: 1.1120839456576581\n",
      "Execution time 191.0752592086792\n",
      "Epoch 20.0\n",
      "---------\n",
      "Train loss: 0.003923157019560612\n",
      "Test loss: 1.0673405692732283\n",
      "Execution time 191.09750151634216\n"
     ]
    }
   ],
   "source": [
    "quantum_loss_train = []\n",
    "quantum_loss_test = []\n",
    "print(\"Untrained test\\n--------\")\n",
    "start = time.time()\n",
    "test_loss = test_model(test_loader, Qmodel, loss_function)\n",
    "end = time.time()\n",
    "print(\"Execution time\", end - start)\n",
    "quantum_loss_test.append(test_loss)\n",
    "\n",
    "for ix_epoch in range(0, 20):\n",
    "    print(f\"Epoch {ix_epoch}\\n---------\")\n",
    "    start = time.time()\n",
    "    train_loss = train_model(train_loader, Qmodel, loss_function, optimizer=optimizer)\n",
    "    test_loss = test_model(test_loader, Qmodel, loss_function)\n",
    "    end = time.time()\n",
    "    print(\"Execution time\", end - start)\n",
    "    quantum_loss_train.append(train_loss)\n",
    "    quantum_loss_test.append(test_loss)"
   ]
  },
  {
   "cell_type": "code",
   "execution_count": null,
   "id": "3db0a1a9",
   "metadata": {
    "colab": {
     "base_uri": "https://localhost:8080/"
    },
    "id": "3db0a1a9",
    "outputId": "fbc7e80f-cb86-4ef3-c3eb-ecaf9bedce3e"
   },
   "outputs": [],
   "source": [
    "train_eval_loader = DataLoader(train_dataset, batch_size=batch_size, shuffle=False)\n",
    "\n",
    "ystar_col_Q = \"Model forecast\"\n",
    "df_train[ystar_col_Q] = predict(train_eval_loader, Qmodel).numpy()\n",
    "df_test[ystar_col_Q] = predict(test_loader, Qmodel).numpy()\n",
    "\n",
    "df_out_Q = pd.concat((df_train, df_test))[[target, ystar_col_Q]]\n",
    "\n",
    "for c in df_out_Q.columns:\n",
    "    df_out_Q[c] = df_out_Q[c] * target_stdev + target_mean\n",
    "\n",
    "print(df_out_Q)"
   ]
  },
  {
   "cell_type": "code",
   "execution_count": null,
   "id": "b194cfa2",
   "metadata": {
    "id": "b194cfa2"
   },
   "outputs": [],
   "source": [
    "plt.figure(figsize=(12, 7))\n",
    "plt.plot(range(0,2717), df_out_Q[\"Close_lead1\"], label = \"Real\")\n",
    "plt.plot(range(0,2717), df_out_Q[\"Model forecast\"], label = \"QLSTM Prediction\")\n",
    "plt.ylabel('Stock Price')\n",
    "plt.xlabel('Days')\n",
    "plt.vlines(size, ymin = 30, ymax = 90, label = \"Test set start\", linestyles = \"dashed\")\n",
    "plt.legend()\n",
    "plt.show()"
   ]
  },
  {
   "cell_type": "code",
   "execution_count": null,
   "id": "0ea7b23a",
   "metadata": {
    "id": "0ea7b23a"
   },
   "outputs": [],
   "source": [
    "plt.figure(figsize=(8, 6))\n",
    "plt.plot(range(0,21), quantum_loss_test)\n",
    "plt.ylabel('Test Loss')\n",
    "plt.xlabel('Epoch')\n",
    "plt.show()"
   ]
  },
  {
   "cell_type": "code",
   "execution_count": null,
   "id": "b786881d",
   "metadata": {
    "id": "b786881d"
   },
   "outputs": [],
   "source": [
    "plt.figure(figsize=(8, 6))\n",
    "plt.plot(range(0, 21), quantum_loss_train)\n",
    "plt.ylabel('Test Loss')\n",
    "plt.xlabel('Epoch')\n",
    "plt.show()"
   ]
  },
  {
   "cell_type": "markdown",
   "id": "ed836318",
   "metadata": {
    "id": "ed836318"
   },
   "source": [
    "### Comparison between Classical LSTM and QLSTM"
   ]
  },
  {
   "cell_type": "markdown",
   "id": "a0f9aa2a",
   "metadata": {
    "id": "a0f9aa2a"
   },
   "source": [
    "Having successfully trained both models and gained initial insights into their performance, our next step involves conducting a comprehensive comparative analysis to gauge their relative effectiveness. This entails a systematic evaluation through the following lenses:\n",
    "\n",
    "* Comparison of Model Predictions: We juxtapose the predictions generated by both models to discern their respective forecasting capabilities.\n",
    "\n",
    "* Comparison of Loss Per Epoch: We assess the loss metrics for both training and testing datasets across epochs, providing a nuanced understanding of how the models adapt and generalize.\n",
    "\n",
    "* Complexity Analysis and Parameter Comparison: We delve into a complexity analysis, scrutinizing factors such as the number of parameters in each model. This scrutiny allows us to quantify and compare the inherent intricacies of the models."
   ]
  },
  {
   "cell_type": "markdown",
   "id": "b71165db",
   "metadata": {
    "id": "b71165db"
   },
   "source": [
    "### Comparison of predictions"
   ]
  },
  {
   "cell_type": "code",
   "execution_count": null,
   "id": "3158989d",
   "metadata": {
    "id": "3158989d"
   },
   "outputs": [],
   "source": [
    "plt.figure(figsize=(12, 7))\n",
    "plt.plot(range(0, 2717), df_out[\"Close_lead1\"], label = \"Real\")\n",
    "plt.plot(range(0, 2717), df_out[\"Model forecast\"], label = \"LSTM\")\n",
    "plt.plot(range(0, 2717), df_out_Q[\"Model forecast\"], label = \"QLSTM\")\n",
    "plt.ylabel('Stock Price')\n",
    "plt.xlabel('Days')\n",
    "plt.vlines(size, ymin = 30, ymax = 90, label = \"Test set start\", linestyles = \"dashed\")\n",
    "plt.legend()\n",
    "plt.show()"
   ]
  },
  {
   "cell_type": "markdown",
   "id": "78d227f2",
   "metadata": {
    "id": "78d227f2"
   },
   "source": [
    "As we can see from the graph, it's apparent that both the LSTM and QLSTM models yield similar outcomes. Both models demonstrate exceptional performance in forecasting the training dataset, and during the initial phases of the test dataset, they exhibit remarkable accuracy, closely aligning with the actual values. Moreover, even as they gradually deviate from the ground truth, both models manage to retain some level of fidelity, capturing certain nuances in the data's variation."
   ]
  },
  {
   "cell_type": "markdown",
   "id": "3469c6b9",
   "metadata": {
    "id": "3469c6b9"
   },
   "source": [
    "### Comparison of evolution of loss values"
   ]
  },
  {
   "cell_type": "markdown",
   "id": "64c8f5b6",
   "metadata": {
    "id": "64c8f5b6"
   },
   "source": [
    "Now, we want to compare the evolution of the loss values by epoch. So, we compare the evolution of the train loss."
   ]
  },
  {
   "cell_type": "code",
   "execution_count": null,
   "id": "fc7b690c",
   "metadata": {
    "id": "fc7b690c"
   },
   "outputs": [],
   "source": [
    "plt.figure(figsize=(8, 6))\n",
    "plt.plot(range(0, 21), classical_loss_train, label = \"LSTM\")\n",
    "plt.plot(range(0, 21), quantum_loss_train, label = \"QLSTM\")\n",
    "plt.ylabel('Train Loss')\n",
    "plt.xlabel('Epoch')\n",
    "plt.legend()\n",
    "plt.show()"
   ]
  },
  {
   "cell_type": "markdown",
   "id": "3401d2fb",
   "metadata": {
    "id": "3401d2fb"
   },
   "source": [
    "It's noteworthy that QLSTM rapidly accumulates a wealth of information within the initial epochs, surpassing the rate of learning exhibited by LSTM. Additionally, the results converge at a swifter pace in contrast to its classical counterpart, although both models ultimately converge to an adequately low loss value. This observation underscores QLSTM's enhanced trainability and its ability to glean insights more efficiently during the early training phases."
   ]
  },
  {
   "cell_type": "code",
   "execution_count": null,
   "id": "9aed6a72",
   "metadata": {
    "id": "9aed6a72"
   },
   "outputs": [],
   "source": [
    "plt.figure(figsize=(12, 7))\n",
    "plt.plot(range(21), classical_loss_test, label = \"LSTM\")\n",
    "plt.plot(range(21), quantum_loss_test, label = \"QLSTM\")\n",
    "plt.ylabel('Test Loss')\n",
    "plt.xlabel('Epoch')\n",
    "plt.legend()\n",
    "plt.show()"
   ]
  },
  {
   "cell_type": "markdown",
   "id": "598dc333",
   "metadata": {
    "id": "598dc333"
   },
   "source": [
    "Likewise, when examining the test loss, we observe a consistent pattern. QLSTM outpaces LSTM in assimilating a greater amount of information during the initial epochs and achieves convergence to a lower loss value at a notably accelerated rate. Impressively, QLSTM ultimately reaches an even lower test loss than LSTM, reaffirming its superior trainability. However, it's worth noting that while the loss metrics showcase this distinction, the predictions generated by both models remain reasonably comparable, highlighting the robustness of both approaches."
   ]
  },
  {
   "cell_type": "markdown",
   "id": "6f090b26",
   "metadata": {
    "id": "6f090b26"
   },
   "source": [
    "### Other time series forecasting using QLSTM"
   ]
  },
  {
   "cell_type": "markdown",
   "id": "689ded85",
   "metadata": {},
   "source": [
    "#### Sinusoidal function"
   ]
  },
  {
   "cell_type": "markdown",
   "id": "6d61a9e1",
   "metadata": {},
   "source": [
    "In the following code we import data from the $f(t) = sin(t)$ function and tran the QLSTM model for predict the sine behaviour. "
   ]
  }
 ],
 "metadata": {
  "colab": {
   "provenance": []
  },
  "kernelspec": {
   "display_name": "Python 3 (ipykernel)",
   "language": "python",
   "name": "python3"
  },
  "language_info": {
   "codemirror_mode": {
    "name": "ipython",
    "version": 3
   },
   "file_extension": ".py",
   "mimetype": "text/x-python",
   "name": "python",
   "nbconvert_exporter": "python",
   "pygments_lexer": "ipython3",
   "version": "3.10.12"
  }
 },
 "nbformat": 4,
 "nbformat_minor": 5
}
